{
 "cells": [
  {
   "cell_type": "markdown",
   "metadata": {},
   "source": [
    "# VacationPy\n",
    "----\n",
    "\n",
    "#### Note\n",
    "* Keep an eye on your API usage. Use https://developers.google.com/maps/reporting/gmp-reporting as reference for how to monitor your usage and billing.\n",
    "\n",
    "* Instructions have been included for each segment. You do not have to follow them exactly, but they are included to help you think through the steps."
   ]
  },
  {
   "cell_type": "code",
   "execution_count": 1,
   "metadata": {},
   "outputs": [],
   "source": [
    "# Dependencies and Setup\n",
    "import matplotlib.pyplot as plt\n",
    "import pandas as pd\n",
    "import numpy as np\n",
    "import requests\n",
    "import gmaps\n",
    "import os\n",
    "from pprint import pprint\n",
    "\n",
    "%matplotlib inline\n",
    "\n",
    "# Import API key\n",
    "from api_keys import g_key"
   ]
  },
  {
   "cell_type": "markdown",
   "metadata": {},
   "source": [
    "### Store Part I results into DataFrame\n",
    "* Load the csv exported in Part I to a DataFrame"
   ]
  },
  {
   "cell_type": "code",
   "execution_count": 2,
   "metadata": {},
   "outputs": [
    {
     "data": {
      "text/html": [
       "<div>\n",
       "<style scoped>\n",
       "    .dataframe tbody tr th:only-of-type {\n",
       "        vertical-align: middle;\n",
       "    }\n",
       "\n",
       "    .dataframe tbody tr th {\n",
       "        vertical-align: top;\n",
       "    }\n",
       "\n",
       "    .dataframe thead th {\n",
       "        text-align: right;\n",
       "    }\n",
       "</style>\n",
       "<table border=\"1\" class=\"dataframe\">\n",
       "  <thead>\n",
       "    <tr style=\"text-align: right;\">\n",
       "      <th></th>\n",
       "      <th>City</th>\n",
       "      <th>Lat</th>\n",
       "      <th>Lng</th>\n",
       "      <th>Max Temp</th>\n",
       "      <th>Humidity</th>\n",
       "      <th>Cloudiness</th>\n",
       "      <th>Wind Speed</th>\n",
       "      <th>Country</th>\n",
       "      <th>Date</th>\n",
       "    </tr>\n",
       "  </thead>\n",
       "  <tbody>\n",
       "    <tr>\n",
       "      <th>0</th>\n",
       "      <td>Folkestone</td>\n",
       "      <td>51.0833</td>\n",
       "      <td>1.1833</td>\n",
       "      <td>43.38</td>\n",
       "      <td>70</td>\n",
       "      <td>75</td>\n",
       "      <td>18.41</td>\n",
       "      <td>GB</td>\n",
       "      <td>1619072137</td>\n",
       "    </tr>\n",
       "    <tr>\n",
       "      <th>1</th>\n",
       "      <td>Punta Arenas</td>\n",
       "      <td>-53.1500</td>\n",
       "      <td>-70.9167</td>\n",
       "      <td>41.00</td>\n",
       "      <td>87</td>\n",
       "      <td>90</td>\n",
       "      <td>8.05</td>\n",
       "      <td>CL</td>\n",
       "      <td>1619071844</td>\n",
       "    </tr>\n",
       "    <tr>\n",
       "      <th>2</th>\n",
       "      <td>Buraidah</td>\n",
       "      <td>26.3260</td>\n",
       "      <td>43.9750</td>\n",
       "      <td>86.00</td>\n",
       "      <td>25</td>\n",
       "      <td>0</td>\n",
       "      <td>3.44</td>\n",
       "      <td>SA</td>\n",
       "      <td>1619072137</td>\n",
       "    </tr>\n",
       "    <tr>\n",
       "      <th>3</th>\n",
       "      <td>Lagoa</td>\n",
       "      <td>39.0500</td>\n",
       "      <td>-27.9833</td>\n",
       "      <td>59.81</td>\n",
       "      <td>91</td>\n",
       "      <td>57</td>\n",
       "      <td>31.03</td>\n",
       "      <td>PT</td>\n",
       "      <td>1619072138</td>\n",
       "    </tr>\n",
       "    <tr>\n",
       "      <th>4</th>\n",
       "      <td>Tabuk</td>\n",
       "      <td>17.4189</td>\n",
       "      <td>121.4443</td>\n",
       "      <td>86.67</td>\n",
       "      <td>58</td>\n",
       "      <td>100</td>\n",
       "      <td>10.87</td>\n",
       "      <td>PH</td>\n",
       "      <td>1619072138</td>\n",
       "    </tr>\n",
       "  </tbody>\n",
       "</table>\n",
       "</div>"
      ],
      "text/plain": [
       "           City      Lat       Lng  Max Temp  Humidity  Cloudiness  \\\n",
       "0    Folkestone  51.0833    1.1833     43.38        70          75   \n",
       "1  Punta Arenas -53.1500  -70.9167     41.00        87          90   \n",
       "2      Buraidah  26.3260   43.9750     86.00        25           0   \n",
       "3         Lagoa  39.0500  -27.9833     59.81        91          57   \n",
       "4         Tabuk  17.4189  121.4443     86.67        58         100   \n",
       "\n",
       "   Wind Speed Country        Date  \n",
       "0       18.41      GB  1619072137  \n",
       "1        8.05      CL  1619071844  \n",
       "2        3.44      SA  1619072137  \n",
       "3       31.03      PT  1619072138  \n",
       "4       10.87      PH  1619072138  "
      ]
     },
     "execution_count": 2,
     "metadata": {},
     "output_type": "execute_result"
    }
   ],
   "source": [
    "# Read in .csv to pandas dataframe                    \n",
    "weather_df = pd.read_csv( '../output_data/cities.csv')\n",
    "weather_df.head()"
   ]
  },
  {
   "cell_type": "markdown",
   "metadata": {},
   "source": [
    "### Humidity Heatmap\n",
    "* Configure gmaps.\n",
    "* Use the Lat and Lng as locations and Humidity as the weight.\n",
    "* Add Heatmap layer to map."
   ]
  },
  {
   "cell_type": "code",
   "execution_count": 3,
   "metadata": {},
   "outputs": [],
   "source": [
    "# Configure gmaps\n",
    "gmaps.configure( api_key = g_key)"
   ]
  },
  {
   "cell_type": "code",
   "execution_count": 4,
   "metadata": {},
   "outputs": [],
   "source": [
    "# Store latitude and longitude\n",
    "locations = weather_df[[ 'Lat', 'Lng']]\n",
    "\n",
    "# Store Humidity\n",
    "humidity = weather_df[ 'Humidity'].astype( 'float')"
   ]
  },
  {
   "cell_type": "code",
   "execution_count": 5,
   "metadata": {},
   "outputs": [
    {
     "data": {
      "application/vnd.jupyter.widget-view+json": {
       "model_id": "ed16717d0be2418693e3b388d2d2687f",
       "version_major": 2,
       "version_minor": 0
      },
      "text/plain": [
       "Figure(layout=FigureLayout(height='420px'))"
      ]
     },
     "metadata": {},
     "output_type": "display_data"
    }
   ],
   "source": [
    "# Plot Heatmap\n",
    "fig = gmaps.figure(center = (0,0), zoom_level= 2)\n",
    "\n",
    "# Create heat layer\n",
    "heat_layer = gmaps.heatmap_layer(locations, \n",
    "                                 weights = humidity, \n",
    "                                 dissipating = False, \n",
    "                                 max_intensity = 100, \n",
    "                                 point_radius = 3\n",
    "                                )\n",
    "\n",
    "# Add layer\n",
    "fig.add_layer( heat_layer)\n",
    "\n",
    "# Display figure\n",
    "fig"
   ]
  },
  {
   "cell_type": "markdown",
   "metadata": {},
   "source": [
    "### Create new DataFrame fitting weather criteria\n",
    "* Narrow down the cities to fit weather conditions.\n",
    "* Drop any rows will null values."
   ]
  },
  {
   "cell_type": "code",
   "execution_count": 6,
   "metadata": {},
   "outputs": [
    {
     "data": {
      "text/html": [
       "<div>\n",
       "<style scoped>\n",
       "    .dataframe tbody tr th:only-of-type {\n",
       "        vertical-align: middle;\n",
       "    }\n",
       "\n",
       "    .dataframe tbody tr th {\n",
       "        vertical-align: top;\n",
       "    }\n",
       "\n",
       "    .dataframe thead th {\n",
       "        text-align: right;\n",
       "    }\n",
       "</style>\n",
       "<table border=\"1\" class=\"dataframe\">\n",
       "  <thead>\n",
       "    <tr style=\"text-align: right;\">\n",
       "      <th></th>\n",
       "      <th>City</th>\n",
       "      <th>Lat</th>\n",
       "      <th>Lng</th>\n",
       "      <th>Max Temp</th>\n",
       "      <th>Humidity</th>\n",
       "      <th>Cloudiness</th>\n",
       "      <th>Wind Speed</th>\n",
       "      <th>Country</th>\n",
       "      <th>Date</th>\n",
       "    </tr>\n",
       "  </thead>\n",
       "  <tbody>\n",
       "    <tr>\n",
       "      <th>232</th>\n",
       "      <td>Maceió</td>\n",
       "      <td>-9.6658</td>\n",
       "      <td>-35.7353</td>\n",
       "      <td>75.20</td>\n",
       "      <td>94</td>\n",
       "      <td>0</td>\n",
       "      <td>4.61</td>\n",
       "      <td>BR</td>\n",
       "      <td>1619072226</td>\n",
       "    </tr>\n",
       "    <tr>\n",
       "      <th>262</th>\n",
       "      <td>Yulara</td>\n",
       "      <td>-25.2406</td>\n",
       "      <td>130.9889</td>\n",
       "      <td>78.80</td>\n",
       "      <td>17</td>\n",
       "      <td>0</td>\n",
       "      <td>8.05</td>\n",
       "      <td>AU</td>\n",
       "      <td>1619072238</td>\n",
       "    </tr>\n",
       "    <tr>\n",
       "      <th>322</th>\n",
       "      <td>Nicoya</td>\n",
       "      <td>10.1483</td>\n",
       "      <td>-85.4520</td>\n",
       "      <td>78.80</td>\n",
       "      <td>65</td>\n",
       "      <td>0</td>\n",
       "      <td>9.22</td>\n",
       "      <td>CR</td>\n",
       "      <td>1619072262</td>\n",
       "    </tr>\n",
       "    <tr>\n",
       "      <th>370</th>\n",
       "      <td>Alice Springs</td>\n",
       "      <td>-23.7000</td>\n",
       "      <td>133.8833</td>\n",
       "      <td>76.17</td>\n",
       "      <td>18</td>\n",
       "      <td>0</td>\n",
       "      <td>8.05</td>\n",
       "      <td>AU</td>\n",
       "      <td>1619072281</td>\n",
       "    </tr>\n",
       "    <tr>\n",
       "      <th>502</th>\n",
       "      <td>Khorramabad</td>\n",
       "      <td>33.4878</td>\n",
       "      <td>48.3558</td>\n",
       "      <td>77.00</td>\n",
       "      <td>33</td>\n",
       "      <td>0</td>\n",
       "      <td>2.30</td>\n",
       "      <td>IR</td>\n",
       "      <td>1619072331</td>\n",
       "    </tr>\n",
       "  </tbody>\n",
       "</table>\n",
       "</div>"
      ],
      "text/plain": [
       "              City      Lat       Lng  Max Temp  Humidity  Cloudiness  \\\n",
       "232         Maceió  -9.6658  -35.7353     75.20        94           0   \n",
       "262         Yulara -25.2406  130.9889     78.80        17           0   \n",
       "322         Nicoya  10.1483  -85.4520     78.80        65           0   \n",
       "370  Alice Springs -23.7000  133.8833     76.17        18           0   \n",
       "502    Khorramabad  33.4878   48.3558     77.00        33           0   \n",
       "\n",
       "     Wind Speed Country        Date  \n",
       "232        4.61      BR  1619072226  \n",
       "262        8.05      AU  1619072238  \n",
       "322        9.22      CR  1619072262  \n",
       "370        8.05      AU  1619072281  \n",
       "502        2.30      IR  1619072331  "
      ]
     },
     "execution_count": 6,
     "metadata": {},
     "output_type": "execute_result"
    }
   ],
   "source": [
    "# Narrow down the cities with wind speed less than 15 mph, cloudiness equals to 0 and max temp between 75 and 85\n",
    "optimal_df = weather_df.loc[( weather_df[ 'Wind Speed'] <= 15) & ( weather_df[ 'Cloudiness'] == 0) & \\\n",
    "                                   ( weather_df[ 'Max Temp'] >= 75) & ( weather_df[ 'Max Temp'] <= 85)].dropna()\n",
    "\n",
    "optimal_df.head()"
   ]
  },
  {
   "cell_type": "markdown",
   "metadata": {},
   "source": [
    "### Hotel Map\n",
    "* Store into variable named `hotel_df`.\n",
    "* Add a \"Hotel Name\" column to the DataFrame.\n",
    "* Set parameters to search for hotels with 5000 meters.\n",
    "* Hit the Google Places API for each city's coordinates.\n",
    "* Store the first Hotel result into the DataFrame.\n",
    "* Plot markers on top of the heatmap."
   ]
  },
  {
   "cell_type": "code",
   "execution_count": 7,
   "metadata": {},
   "outputs": [
    {
     "data": {
      "text/html": [
       "<div>\n",
       "<style scoped>\n",
       "    .dataframe tbody tr th:only-of-type {\n",
       "        vertical-align: middle;\n",
       "    }\n",
       "\n",
       "    .dataframe tbody tr th {\n",
       "        vertical-align: top;\n",
       "    }\n",
       "\n",
       "    .dataframe thead th {\n",
       "        text-align: right;\n",
       "    }\n",
       "</style>\n",
       "<table border=\"1\" class=\"dataframe\">\n",
       "  <thead>\n",
       "    <tr style=\"text-align: right;\">\n",
       "      <th></th>\n",
       "      <th>City</th>\n",
       "      <th>Country</th>\n",
       "      <th>Lat</th>\n",
       "      <th>Lng</th>\n",
       "      <th>Hotel Name</th>\n",
       "    </tr>\n",
       "  </thead>\n",
       "  <tbody>\n",
       "    <tr>\n",
       "      <th>232</th>\n",
       "      <td>Maceió</td>\n",
       "      <td>BR</td>\n",
       "      <td>-9.6658</td>\n",
       "      <td>-35.7353</td>\n",
       "      <td></td>\n",
       "    </tr>\n",
       "    <tr>\n",
       "      <th>262</th>\n",
       "      <td>Yulara</td>\n",
       "      <td>AU</td>\n",
       "      <td>-25.2406</td>\n",
       "      <td>130.9889</td>\n",
       "      <td></td>\n",
       "    </tr>\n",
       "    <tr>\n",
       "      <th>322</th>\n",
       "      <td>Nicoya</td>\n",
       "      <td>CR</td>\n",
       "      <td>10.1483</td>\n",
       "      <td>-85.4520</td>\n",
       "      <td></td>\n",
       "    </tr>\n",
       "    <tr>\n",
       "      <th>370</th>\n",
       "      <td>Alice Springs</td>\n",
       "      <td>AU</td>\n",
       "      <td>-23.7000</td>\n",
       "      <td>133.8833</td>\n",
       "      <td></td>\n",
       "    </tr>\n",
       "    <tr>\n",
       "      <th>502</th>\n",
       "      <td>Khorramabad</td>\n",
       "      <td>IR</td>\n",
       "      <td>33.4878</td>\n",
       "      <td>48.3558</td>\n",
       "      <td></td>\n",
       "    </tr>\n",
       "  </tbody>\n",
       "</table>\n",
       "</div>"
      ],
      "text/plain": [
       "              City Country      Lat       Lng Hotel Name\n",
       "232         Maceió      BR  -9.6658  -35.7353           \n",
       "262         Yulara      AU -25.2406  130.9889           \n",
       "322         Nicoya      CR  10.1483  -85.4520           \n",
       "370  Alice Springs      AU -23.7000  133.8833           \n",
       "502    Khorramabad      IR  33.4878   48.3558           "
      ]
     },
     "execution_count": 7,
     "metadata": {},
     "output_type": "execute_result"
    }
   ],
   "source": [
    "# Create the Hotel DataFrame\n",
    "hotel_df = optimal_df.loc[:, [ 'City', 'Country', 'Lat', 'Lng']]\n",
    "\n",
    "# Add an empty hotel column to the DataFrame\n",
    "hotel_df[ 'Hotel Name'] = \"\"\n",
    "\n",
    "# Display to check\n",
    "hotel_df.head()"
   ]
  },
  {
   "cell_type": "code",
   "execution_count": 8,
   "metadata": {},
   "outputs": [],
   "source": [
    "# Set the base url and search parameters\n",
    "base_url = 'https://maps.googleapis.com/maps/api/place/nearbysearch/json'\n",
    "\n",
    "params = {'type': 'hotel',\n",
    "          'keyword': 'hotel',\n",
    "          'radius': 5000,\n",
    "          'key': g_key}"
   ]
  },
  {
   "cell_type": "code",
   "execution_count": 9,
   "metadata": {},
   "outputs": [],
   "source": [
    "#lat = 51.0833\n",
    "#lng = 1.1833\n",
    "\n",
    "#params[ 'location'] = f'{lat},{lng}'\n",
    "\n",
    "#response = requests.get(base_url, params= params).json()\n",
    "\n",
    "#pprint(response)"
   ]
  },
  {
   "cell_type": "code",
   "execution_count": 10,
   "metadata": {},
   "outputs": [],
   "source": [
    "#print( response['results'][0]['name'])"
   ]
  },
  {
   "cell_type": "code",
   "execution_count": 11,
   "metadata": {},
   "outputs": [
    {
     "name": "stdout",
     "output_type": "stream",
     "text": [
      "Retrieving Results for Index 232: Maceió...\n",
      "Closest hotel in Maceió is Meridiano Hotel\n",
      "-----------------------\n",
      "Retrieving Results for Index 262: Yulara...\n",
      "Closest hotel in Yulara is Sails in the Desert\n",
      "-----------------------\n",
      "Retrieving Results for Index 322: Nicoya...\n",
      "Closest hotel in Nicoya is Hotel El Regalo\n",
      "-----------------------\n",
      "Retrieving Results for Index 370: Alice Springs...\n",
      "Closest hotel in Alice Springs is DoubleTree by Hilton Hotel Alice Springs\n",
      "-----------------------\n",
      "Retrieving Results for Index 502: Khorramabad...\n",
      "Closest hotel in Khorramabad is Gahar motel\n",
      "-----------------------\n",
      "Retrieving Results for Index 515: Seoul...\n",
      "Closest hotel in Seoul is Lotte Hotel Seoul\n",
      "-----------------------\n",
      "-------End of Search-------\n"
     ]
    }
   ],
   "source": [
    "# Search for hotels near the cities of interst\n",
    "for index, row in hotel_df.iterrows():\n",
    "    # get city name, lat, lnt from df\n",
    "    lat = row[ 'Lat']\n",
    "    lng = row[ 'Lng']\n",
    "    city = row[ 'City']\n",
    "    \n",
    "    # Add keyword to params dict\n",
    "    params[ 'location'] = f'{lat},{lng}'\n",
    "      \n",
    "    # Assemble url, make API request, and print request to screen\n",
    "    response = requests.get(base_url, params= params).json()\n",
    "    print( f'Retrieving Results for Index { index}: { city}...')\n",
    "    \n",
    "   \n",
    "    # Save hotel to DataFrame\n",
    "    try:\n",
    "        print( f'Closest hotel in { city} is',response['results'][0][ 'name'])\n",
    "        hotel_df.loc[ index, \"Hotel Name\"] = response['results'][0][ 'name']\n",
    "\n",
    "    # If no hotel is found, print message that city is being skipped\n",
    "    except (KeyError, IndexError):\n",
    "        print( 'No hotel found... skipping.')\n",
    "        \n",
    "    print( '-----------------------')\n",
    "    \n",
    "    \n",
    "# Print End of Search\n",
    "print( '-------End of Search-------')"
   ]
  },
  {
   "cell_type": "code",
   "execution_count": 12,
   "metadata": {},
   "outputs": [],
   "source": [
    "# NOTE: Do not change any of the code in this cell\n",
    "\n",
    "# Using the template add the hotel marks to the heatmap\n",
    "info_box_template = \"\"\"\n",
    "<dl>\n",
    "<dt>Name</dt><dd>{Hotel Name}</dd>\n",
    "<dt>City</dt><dd>{City}</dd>\n",
    "<dt>Country</dt><dd>{Country}</dd>\n",
    "</dl>\n",
    "\"\"\"\n",
    "# Store the DataFrame Row\n",
    "# NOTE: be sure to update with your DataFrame name\n",
    "hotel_info = [info_box_template.format(**row) for index, row in hotel_df.iterrows()]\n",
    "locations = hotel_df[[\"Lat\", \"Lng\"]]"
   ]
  },
  {
   "cell_type": "code",
   "execution_count": 14,
   "metadata": {},
   "outputs": [
    {
     "data": {
      "application/vnd.jupyter.widget-view+json": {
       "model_id": "ed16717d0be2418693e3b388d2d2687f",
       "version_major": 2,
       "version_minor": 0
      },
      "text/plain": [
       "Figure(layout=FigureLayout(height='420px'))"
      ]
     },
     "metadata": {},
     "output_type": "display_data"
    }
   ],
   "source": [
    "# Add marker layer ontop of heat map\n",
    "# Add marker layer and info box content ontop of heat map\n",
    "markers = gmaps.marker_layer(locations, info_box_content = hotel_info)\n",
    "\n",
    "# Add the layer to the map\n",
    "fig.add_layer(markers)\n",
    "\n",
    "# Display figure\n",
    "fig"
   ]
  },
  {
   "cell_type": "code",
   "execution_count": null,
   "metadata": {},
   "outputs": [],
   "source": []
  }
 ],
 "metadata": {
  "kernelspec": {
   "display_name": "Python [conda env:PythonData] *",
   "language": "python",
   "name": "conda-env-PythonData-py"
  },
  "language_info": {
   "codemirror_mode": {
    "name": "ipython",
    "version": 3
   },
   "file_extension": ".py",
   "mimetype": "text/x-python",
   "name": "python",
   "nbconvert_exporter": "python",
   "pygments_lexer": "ipython3",
   "version": "3.6.10"
  },
  "latex_envs": {
   "LaTeX_envs_menu_present": true,
   "autoclose": false,
   "autocomplete": true,
   "bibliofile": "biblio.bib",
   "cite_by": "apalike",
   "current_citInitial": 1,
   "eqLabelWithNumbers": true,
   "eqNumInitial": 1,
   "hotkeys": {
    "equation": "Ctrl-E",
    "itemize": "Ctrl-I"
   },
   "labels_anchors": false,
   "latex_user_defs": false,
   "report_style_numbering": false,
   "user_envs_cfg": false
  }
 },
 "nbformat": 4,
 "nbformat_minor": 4
}
